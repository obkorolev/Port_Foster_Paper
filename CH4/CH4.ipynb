{
  "cells": [
    {
      "cell_type": "markdown",
      "metadata": {},
      "source": [
        "This script aims to calculate the sea-air methane flux from in-situ data."
      ]
    },
    {
      "cell_type": "markdown",
      "metadata": {},
      "source": [
        "Air-sea CH4 exchange in Port Foster, was calculated across the sampled stations according to the following equation:"
      ]
    },
    {
      "cell_type": "markdown",
      "metadata": {},
      "source": [
        "$F\\ =\\ k\\ (C_W\\ -{\\ C}_A)\\ \\ \\ \\ (Eq.1)$"
      ]
    },
    {
      "cell_type": "markdown",
      "metadata": {},
      "source": [
        "where F is the atmosphere-ocean CH4 flux (in µmol m-2 d-1), k is the gas transfer velocity (in cm h-1), Cw is the CH4 concentration in water and Ca is the equilibrium concentration of CH4 in the layer of air above the water. In equation 1, k  was estimated according to (Wanninkhof, 2014):"
      ]
    },
    {
      "cell_type": "markdown",
      "metadata": {},
      "source": [
        "$k\\ =\\ a\\ {<U10>}^2\\left(\\frac{{Sc}_{CH4}}{660}\\right)^{-0.5}\\ \\ \\ \\ (Eq.\\ 2)$"
      ]
    },
    {
      "cell_type": "markdown",
      "metadata": {},
      "source": [
        "where a is a cost function used for gas transfer coefficient optimization (0.251), U10 is in situ the average winds (AEMET, 2021), averaged for 31 days (15 before and 15 after the sample was taken) and corrected for 10m height (m s-1) (Wanninkhof, 2014) and ScCH4 is the Schmidt number adjusted for temperature. The atmospheric equilibrium solubility of CH4 was derived from the following equation (Weiss, 1970; Wiesenburg and Guinasso, 1979):"
      ]
    },
    {
      "cell_type": "markdown",
      "metadata": {},
      "source": [
        "$\\ln{C_a}=\\ln{f_G}+A_1+A_2\\left(\\frac{100}{T}\\right)+A_3\\ln{\\left(\\frac{T}{100}\\right)}+A_4\\left(\\frac{T}{100}\\right)+S‰[B1+B2{\\left(\\frac{T}{100}\\right)}+B3{\\left(\\frac{T}{100}\\right)}^2]\\ \\ \\ \\ (Eq.3)$"
      ]
    },
    {
      "cell_type": "markdown",
      "metadata": {},
      "source": [
        "where fG is the molecular fraction in dry air for methane (1.89×10-6 as of January, 2021), T is the temperature in Kelvin and S is the salinity in ppt. Ai and Bi are the constants for calculation of solubilities in nmol L-1: A1 = -415.2807; A2 = 596.8104; A3 = 379.2599; A4 = -62.0757; B1 = -0.059160; B2 = 0.032174; B3 = -0.0048198 (Wiesenburg and Guinasso, 1979). The fourth temperature dependant parameter $A4{\\left(\\frac{T}{100}\\right)}$ especially accounts for the vapor pressure of water. Additionally, methane saturation ratios were calculated as CW/CA × 100."
      ]
    },
    {
      "cell_type": "code",
      "execution_count": 2,
      "metadata": {
        "colab": {
          "base_uri": "https://localhost:8080/"
        },
        "id": "VrJeQNOUEprk",
        "outputId": "0df81718-9488-455f-db4f-a4154a6b9e25"
      },
      "outputs": [
        {
          "name": "stdout",
          "output_type": "stream",
          "text": [
            "Average wind speed: 7.22887570773793\n",
            "St. 2-1 = 7.78 umol/(m^2*d)\n",
            "St. 2-2 = 9.98 umol/(m^2*d)\n",
            "St. 2-3 = 10.38 umol/(m^2*d)\n",
            "St. 2-4 = 9.45 umol/(m^2*d)\n",
            "St. 2-5 = 7.2 umol/(m^2*d)\n",
            "St. 2-6 = 6.32 umol/(m^2*d)\n",
            "St. 2-7 = 7.72 umol/(m^2*d)\n",
            "St. 2-8 = 10.93 umol/(m^2*d)\n",
            "St. 2-9 = 10.86 umol/(m^2*d)\n",
            "St. 2-10 = 7.13 umol/(m^2*d)\n",
            "St. 2-11 = 6.12 umol/(m^2*d)\n",
            "St. 2-12 = 22.14 umol/(m^2*d)\n",
            "St. 2-13 = 17.7 umol/(m^2*d)\n",
            "St. 2-14 = 11.72 umol/(m^2*d)\n",
            "St. 2-15 = 8.85 umol/(m^2*d)\n"
          ]
        },
        {
          "ename": "PermissionError",
          "evalue": "[Errno 13] Permission denied: './CH4_data/CH4_fluxes.csv'",
          "output_type": "error",
          "traceback": [
            "\u001b[1;31m---------------------------------------------------------------------------\u001b[0m",
            "\u001b[1;31mPermissionError\u001b[0m                           Traceback (most recent call last)",
            "Input \u001b[1;32mIn [2]\u001b[0m, in \u001b[0;36m<cell line: 148>\u001b[1;34m()\u001b[0m\n\u001b[0;32m    146\u001b[0m \u001b[38;5;66;03m# Save the DataFrame to a CSV file\u001b[39;00m\n\u001b[0;32m    147\u001b[0m output_file_path \u001b[38;5;241m=\u001b[39m \u001b[38;5;124m'\u001b[39m\u001b[38;5;124m./CH4_data/CH4_fluxes.csv\u001b[39m\u001b[38;5;124m'\u001b[39m\n\u001b[1;32m--> 148\u001b[0m \u001b[43mdf\u001b[49m\u001b[38;5;241;43m.\u001b[39;49m\u001b[43mto_csv\u001b[49m\u001b[43m(\u001b[49m\u001b[43moutput_file_path\u001b[49m\u001b[43m,\u001b[49m\u001b[43m \u001b[49m\u001b[43mindex\u001b[49m\u001b[38;5;241;43m=\u001b[39;49m\u001b[38;5;28;43;01mFalse\u001b[39;49;00m\u001b[43m)\u001b[49m\n",
            "File \u001b[1;32mc:\\Users\\Oleg\\anaconda3\\envs\\PyTorch\\lib\\site-packages\\pandas\\core\\generic.py:3551\u001b[0m, in \u001b[0;36mNDFrame.to_csv\u001b[1;34m(self, path_or_buf, sep, na_rep, float_format, columns, header, index, index_label, mode, encoding, compression, quoting, quotechar, line_terminator, chunksize, date_format, doublequote, escapechar, decimal, errors, storage_options)\u001b[0m\n\u001b[0;32m   3540\u001b[0m df \u001b[38;5;241m=\u001b[39m \u001b[38;5;28mself\u001b[39m \u001b[38;5;28;01mif\u001b[39;00m \u001b[38;5;28misinstance\u001b[39m(\u001b[38;5;28mself\u001b[39m, ABCDataFrame) \u001b[38;5;28;01melse\u001b[39;00m \u001b[38;5;28mself\u001b[39m\u001b[38;5;241m.\u001b[39mto_frame()\n\u001b[0;32m   3542\u001b[0m formatter \u001b[38;5;241m=\u001b[39m DataFrameFormatter(\n\u001b[0;32m   3543\u001b[0m     frame\u001b[38;5;241m=\u001b[39mdf,\n\u001b[0;32m   3544\u001b[0m     header\u001b[38;5;241m=\u001b[39mheader,\n\u001b[1;32m   (...)\u001b[0m\n\u001b[0;32m   3548\u001b[0m     decimal\u001b[38;5;241m=\u001b[39mdecimal,\n\u001b[0;32m   3549\u001b[0m )\n\u001b[1;32m-> 3551\u001b[0m \u001b[38;5;28;01mreturn\u001b[39;00m \u001b[43mDataFrameRenderer\u001b[49m\u001b[43m(\u001b[49m\u001b[43mformatter\u001b[49m\u001b[43m)\u001b[49m\u001b[38;5;241;43m.\u001b[39;49m\u001b[43mto_csv\u001b[49m\u001b[43m(\u001b[49m\n\u001b[0;32m   3552\u001b[0m \u001b[43m    \u001b[49m\u001b[43mpath_or_buf\u001b[49m\u001b[43m,\u001b[49m\n\u001b[0;32m   3553\u001b[0m \u001b[43m    \u001b[49m\u001b[43mline_terminator\u001b[49m\u001b[38;5;241;43m=\u001b[39;49m\u001b[43mline_terminator\u001b[49m\u001b[43m,\u001b[49m\n\u001b[0;32m   3554\u001b[0m \u001b[43m    \u001b[49m\u001b[43msep\u001b[49m\u001b[38;5;241;43m=\u001b[39;49m\u001b[43msep\u001b[49m\u001b[43m,\u001b[49m\n\u001b[0;32m   3555\u001b[0m \u001b[43m    \u001b[49m\u001b[43mencoding\u001b[49m\u001b[38;5;241;43m=\u001b[39;49m\u001b[43mencoding\u001b[49m\u001b[43m,\u001b[49m\n\u001b[0;32m   3556\u001b[0m \u001b[43m    \u001b[49m\u001b[43merrors\u001b[49m\u001b[38;5;241;43m=\u001b[39;49m\u001b[43merrors\u001b[49m\u001b[43m,\u001b[49m\n\u001b[0;32m   3557\u001b[0m \u001b[43m    \u001b[49m\u001b[43mcompression\u001b[49m\u001b[38;5;241;43m=\u001b[39;49m\u001b[43mcompression\u001b[49m\u001b[43m,\u001b[49m\n\u001b[0;32m   3558\u001b[0m \u001b[43m    \u001b[49m\u001b[43mquoting\u001b[49m\u001b[38;5;241;43m=\u001b[39;49m\u001b[43mquoting\u001b[49m\u001b[43m,\u001b[49m\n\u001b[0;32m   3559\u001b[0m \u001b[43m    \u001b[49m\u001b[43mcolumns\u001b[49m\u001b[38;5;241;43m=\u001b[39;49m\u001b[43mcolumns\u001b[49m\u001b[43m,\u001b[49m\n\u001b[0;32m   3560\u001b[0m \u001b[43m    \u001b[49m\u001b[43mindex_label\u001b[49m\u001b[38;5;241;43m=\u001b[39;49m\u001b[43mindex_label\u001b[49m\u001b[43m,\u001b[49m\n\u001b[0;32m   3561\u001b[0m \u001b[43m    \u001b[49m\u001b[43mmode\u001b[49m\u001b[38;5;241;43m=\u001b[39;49m\u001b[43mmode\u001b[49m\u001b[43m,\u001b[49m\n\u001b[0;32m   3562\u001b[0m \u001b[43m    \u001b[49m\u001b[43mchunksize\u001b[49m\u001b[38;5;241;43m=\u001b[39;49m\u001b[43mchunksize\u001b[49m\u001b[43m,\u001b[49m\n\u001b[0;32m   3563\u001b[0m \u001b[43m    \u001b[49m\u001b[43mquotechar\u001b[49m\u001b[38;5;241;43m=\u001b[39;49m\u001b[43mquotechar\u001b[49m\u001b[43m,\u001b[49m\n\u001b[0;32m   3564\u001b[0m \u001b[43m    \u001b[49m\u001b[43mdate_format\u001b[49m\u001b[38;5;241;43m=\u001b[39;49m\u001b[43mdate_format\u001b[49m\u001b[43m,\u001b[49m\n\u001b[0;32m   3565\u001b[0m \u001b[43m    \u001b[49m\u001b[43mdoublequote\u001b[49m\u001b[38;5;241;43m=\u001b[39;49m\u001b[43mdoublequote\u001b[49m\u001b[43m,\u001b[49m\n\u001b[0;32m   3566\u001b[0m \u001b[43m    \u001b[49m\u001b[43mescapechar\u001b[49m\u001b[38;5;241;43m=\u001b[39;49m\u001b[43mescapechar\u001b[49m\u001b[43m,\u001b[49m\n\u001b[0;32m   3567\u001b[0m \u001b[43m    \u001b[49m\u001b[43mstorage_options\u001b[49m\u001b[38;5;241;43m=\u001b[39;49m\u001b[43mstorage_options\u001b[49m\u001b[43m,\u001b[49m\n\u001b[0;32m   3568\u001b[0m \u001b[43m\u001b[49m\u001b[43m)\u001b[49m\n",
            "File \u001b[1;32mc:\\Users\\Oleg\\anaconda3\\envs\\PyTorch\\lib\\site-packages\\pandas\\io\\formats\\format.py:1180\u001b[0m, in \u001b[0;36mDataFrameRenderer.to_csv\u001b[1;34m(self, path_or_buf, encoding, sep, columns, index_label, mode, compression, quoting, quotechar, line_terminator, chunksize, date_format, doublequote, escapechar, errors, storage_options)\u001b[0m\n\u001b[0;32m   1159\u001b[0m     created_buffer \u001b[38;5;241m=\u001b[39m \u001b[38;5;28;01mFalse\u001b[39;00m\n\u001b[0;32m   1161\u001b[0m csv_formatter \u001b[38;5;241m=\u001b[39m CSVFormatter(\n\u001b[0;32m   1162\u001b[0m     path_or_buf\u001b[38;5;241m=\u001b[39mpath_or_buf,\n\u001b[0;32m   1163\u001b[0m     line_terminator\u001b[38;5;241m=\u001b[39mline_terminator,\n\u001b[1;32m   (...)\u001b[0m\n\u001b[0;32m   1178\u001b[0m     formatter\u001b[38;5;241m=\u001b[39m\u001b[38;5;28mself\u001b[39m\u001b[38;5;241m.\u001b[39mfmt,\n\u001b[0;32m   1179\u001b[0m )\n\u001b[1;32m-> 1180\u001b[0m \u001b[43mcsv_formatter\u001b[49m\u001b[38;5;241;43m.\u001b[39;49m\u001b[43msave\u001b[49m\u001b[43m(\u001b[49m\u001b[43m)\u001b[49m\n\u001b[0;32m   1182\u001b[0m \u001b[38;5;28;01mif\u001b[39;00m created_buffer:\n\u001b[0;32m   1183\u001b[0m     \u001b[38;5;28;01massert\u001b[39;00m \u001b[38;5;28misinstance\u001b[39m(path_or_buf, StringIO)\n",
            "File \u001b[1;32mc:\\Users\\Oleg\\anaconda3\\envs\\PyTorch\\lib\\site-packages\\pandas\\io\\formats\\csvs.py:241\u001b[0m, in \u001b[0;36mCSVFormatter.save\u001b[1;34m(self)\u001b[0m\n\u001b[0;32m    237\u001b[0m \u001b[38;5;124;03m\"\"\"\u001b[39;00m\n\u001b[0;32m    238\u001b[0m \u001b[38;5;124;03mCreate the writer & save.\u001b[39;00m\n\u001b[0;32m    239\u001b[0m \u001b[38;5;124;03m\"\"\"\u001b[39;00m\n\u001b[0;32m    240\u001b[0m \u001b[38;5;66;03m# apply compression and byte/text conversion\u001b[39;00m\n\u001b[1;32m--> 241\u001b[0m \u001b[38;5;28;01mwith\u001b[39;00m \u001b[43mget_handle\u001b[49m\u001b[43m(\u001b[49m\n\u001b[0;32m    242\u001b[0m \u001b[43m    \u001b[49m\u001b[38;5;28;43mself\u001b[39;49m\u001b[38;5;241;43m.\u001b[39;49m\u001b[43mfilepath_or_buffer\u001b[49m\u001b[43m,\u001b[49m\n\u001b[0;32m    243\u001b[0m \u001b[43m    \u001b[49m\u001b[38;5;28;43mself\u001b[39;49m\u001b[38;5;241;43m.\u001b[39;49m\u001b[43mmode\u001b[49m\u001b[43m,\u001b[49m\n\u001b[0;32m    244\u001b[0m \u001b[43m    \u001b[49m\u001b[43mencoding\u001b[49m\u001b[38;5;241;43m=\u001b[39;49m\u001b[38;5;28;43mself\u001b[39;49m\u001b[38;5;241;43m.\u001b[39;49m\u001b[43mencoding\u001b[49m\u001b[43m,\u001b[49m\n\u001b[0;32m    245\u001b[0m \u001b[43m    \u001b[49m\u001b[43merrors\u001b[49m\u001b[38;5;241;43m=\u001b[39;49m\u001b[38;5;28;43mself\u001b[39;49m\u001b[38;5;241;43m.\u001b[39;49m\u001b[43merrors\u001b[49m\u001b[43m,\u001b[49m\n\u001b[0;32m    246\u001b[0m \u001b[43m    \u001b[49m\u001b[43mcompression\u001b[49m\u001b[38;5;241;43m=\u001b[39;49m\u001b[38;5;28;43mself\u001b[39;49m\u001b[38;5;241;43m.\u001b[39;49m\u001b[43mcompression\u001b[49m\u001b[43m,\u001b[49m\n\u001b[0;32m    247\u001b[0m \u001b[43m    \u001b[49m\u001b[43mstorage_options\u001b[49m\u001b[38;5;241;43m=\u001b[39;49m\u001b[38;5;28;43mself\u001b[39;49m\u001b[38;5;241;43m.\u001b[39;49m\u001b[43mstorage_options\u001b[49m\u001b[43m,\u001b[49m\n\u001b[0;32m    248\u001b[0m \u001b[43m\u001b[49m\u001b[43m)\u001b[49m \u001b[38;5;28;01mas\u001b[39;00m handles:\n\u001b[0;32m    249\u001b[0m \n\u001b[0;32m    250\u001b[0m     \u001b[38;5;66;03m# Note: self.encoding is irrelevant here\u001b[39;00m\n\u001b[0;32m    251\u001b[0m     \u001b[38;5;28mself\u001b[39m\u001b[38;5;241m.\u001b[39mwriter \u001b[38;5;241m=\u001b[39m csvlib\u001b[38;5;241m.\u001b[39mwriter(\n\u001b[0;32m    252\u001b[0m         handles\u001b[38;5;241m.\u001b[39mhandle,\n\u001b[0;32m    253\u001b[0m         lineterminator\u001b[38;5;241m=\u001b[39m\u001b[38;5;28mself\u001b[39m\u001b[38;5;241m.\u001b[39mline_terminator,\n\u001b[1;32m   (...)\u001b[0m\n\u001b[0;32m    258\u001b[0m         quotechar\u001b[38;5;241m=\u001b[39m\u001b[38;5;28mself\u001b[39m\u001b[38;5;241m.\u001b[39mquotechar,\n\u001b[0;32m    259\u001b[0m     )\n\u001b[0;32m    261\u001b[0m     \u001b[38;5;28mself\u001b[39m\u001b[38;5;241m.\u001b[39m_save()\n",
            "File \u001b[1;32mc:\\Users\\Oleg\\anaconda3\\envs\\PyTorch\\lib\\site-packages\\pandas\\io\\common.py:789\u001b[0m, in \u001b[0;36mget_handle\u001b[1;34m(path_or_buf, mode, encoding, compression, memory_map, is_text, errors, storage_options)\u001b[0m\n\u001b[0;32m    784\u001b[0m \u001b[38;5;28;01melif\u001b[39;00m \u001b[38;5;28misinstance\u001b[39m(handle, \u001b[38;5;28mstr\u001b[39m):\n\u001b[0;32m    785\u001b[0m     \u001b[38;5;66;03m# Check whether the filename is to be opened in binary mode.\u001b[39;00m\n\u001b[0;32m    786\u001b[0m     \u001b[38;5;66;03m# Binary mode does not support 'encoding' and 'newline'.\u001b[39;00m\n\u001b[0;32m    787\u001b[0m     \u001b[38;5;28;01mif\u001b[39;00m ioargs\u001b[38;5;241m.\u001b[39mencoding \u001b[38;5;129;01mand\u001b[39;00m \u001b[38;5;124m\"\u001b[39m\u001b[38;5;124mb\u001b[39m\u001b[38;5;124m\"\u001b[39m \u001b[38;5;129;01mnot\u001b[39;00m \u001b[38;5;129;01min\u001b[39;00m ioargs\u001b[38;5;241m.\u001b[39mmode:\n\u001b[0;32m    788\u001b[0m         \u001b[38;5;66;03m# Encoding\u001b[39;00m\n\u001b[1;32m--> 789\u001b[0m         handle \u001b[38;5;241m=\u001b[39m \u001b[38;5;28;43mopen\u001b[39;49m\u001b[43m(\u001b[49m\n\u001b[0;32m    790\u001b[0m \u001b[43m            \u001b[49m\u001b[43mhandle\u001b[49m\u001b[43m,\u001b[49m\n\u001b[0;32m    791\u001b[0m \u001b[43m            \u001b[49m\u001b[43mioargs\u001b[49m\u001b[38;5;241;43m.\u001b[39;49m\u001b[43mmode\u001b[49m\u001b[43m,\u001b[49m\n\u001b[0;32m    792\u001b[0m \u001b[43m            \u001b[49m\u001b[43mencoding\u001b[49m\u001b[38;5;241;43m=\u001b[39;49m\u001b[43mioargs\u001b[49m\u001b[38;5;241;43m.\u001b[39;49m\u001b[43mencoding\u001b[49m\u001b[43m,\u001b[49m\n\u001b[0;32m    793\u001b[0m \u001b[43m            \u001b[49m\u001b[43merrors\u001b[49m\u001b[38;5;241;43m=\u001b[39;49m\u001b[43merrors\u001b[49m\u001b[43m,\u001b[49m\n\u001b[0;32m    794\u001b[0m \u001b[43m            \u001b[49m\u001b[43mnewline\u001b[49m\u001b[38;5;241;43m=\u001b[39;49m\u001b[38;5;124;43m\"\u001b[39;49m\u001b[38;5;124;43m\"\u001b[39;49m\u001b[43m,\u001b[49m\n\u001b[0;32m    795\u001b[0m \u001b[43m        \u001b[49m\u001b[43m)\u001b[49m\n\u001b[0;32m    796\u001b[0m     \u001b[38;5;28;01melse\u001b[39;00m:\n\u001b[0;32m    797\u001b[0m         \u001b[38;5;66;03m# Binary mode\u001b[39;00m\n\u001b[0;32m    798\u001b[0m         handle \u001b[38;5;241m=\u001b[39m \u001b[38;5;28mopen\u001b[39m(handle, ioargs\u001b[38;5;241m.\u001b[39mmode)\n",
            "\u001b[1;31mPermissionError\u001b[0m: [Errno 13] Permission denied: './CH4_data/CH4_fluxes.csv'"
          ]
        }
      ],
      "source": [
        "import numpy as np\n",
        "import pandas as pd\n",
        "import json\n",
        "from datetime import datetime\n",
        "\n",
        "def calculate_average_wind_speed(file_path):\n",
        "    # Load the JSON data from the specified file\n",
        "    with open(file_path, 'r') as file:\n",
        "        data = json.load(file)\n",
        "    \n",
        "    # Extract the wind speeds and timestamps\n",
        "    wind_speeds = []\n",
        "    timestamps = set()  # To track unique timestamps\n",
        "    \n",
        "    for i, entry in enumerate(data):\n",
        "        if i % 3 != 0:  # Skip the first dictionary of each 10-minute interval\n",
        "            timestamp = entry['fhora']\n",
        "            if timestamp not in timestamps:\n",
        "                wind_speed = entry['vel']\n",
        "                if wind_speed != 'NaN':  # Ensure the wind speed is a valid number\n",
        "                    wind_speeds.append(float(wind_speed))\n",
        "                timestamps.add(timestamp)\n",
        "    \n",
        "    # Calculate the average wind speed\n",
        "    if wind_speeds:\n",
        "        average_wind_speed = sum(wind_speeds) / len(wind_speeds)\n",
        "    else:\n",
        "        average_wind_speed = 0\n",
        "\n",
        "    return average_wind_speed\n",
        "\n",
        "def function_x(bulk_c, temperature_C, salinity, wind_speed, stations, anem_height):\n",
        "\n",
        "    '''\n",
        "    Gas transfer velocity calculation (k) function\n",
        "\n",
        "    Parameters:\n",
        "\n",
        "    bulk_c: concentration in nmol/L of methane in water\n",
        "    temperature_c: water temperature in ºC\n",
        "    salinity: water salinity in PSU\n",
        "    anem_height: the height of the meteo station at which the wind veolicty is recorded\n",
        "    wind_speed: wind speed data recorded at the anemometer\n",
        "    stations: number of the station\n",
        "\n",
        "    Output:\n",
        "    CH4 sea-water flux in umol/(m^2*d)\n",
        "    '''\n",
        "    \n",
        "    # following the Equation 2: k = a * U10^2 * (ScCH4/Sc_ref)^b\n",
        "\n",
        "    a = 0.251  # cm/h, from Wanninkhof, 2014.\n",
        "    h = anem_height # effective height of the anemometer above the mean sea level\n",
        "    Vh = wind_speed\n",
        "    U10 = Vh/((h/10)**0.13)  \n",
        "    b = -0.5\n",
        "    Sc_ref = 660  # Reference Schmidt number\n",
        "\n",
        "    # CH4 Schmidt number calculation\n",
        "    # Constants for CH4 obtained from Wanninkhof, 2014 (Table 1 - Seawater)\n",
        "\n",
        "    A = 2102.2\n",
        "    B = (-131.54)\n",
        "    C = 4.4931\n",
        "    D = (-0.08676)\n",
        "    E = 0.00070663\n",
        "    t = temperature_C\n",
        "\n",
        "    Sc_CH4 = A + B*t + C*t**2 + D*t**3 + E*t**4\n",
        "    #print(\"Sc_CH4_calc =\", round(Sc_CH4_calc,4))\n",
        "\n",
        "    # Calculate the gas transfer velocity for CH4 (k)\n",
        "    k = a * (U10 ** 2) * ((Sc_CH4 / Sc_ref) ** b)  # cm/h\n",
        "\n",
        "    #print(\"k =\", round(k,4))\n",
        "\n",
        "    #MOIST AIR, constants obtained from Wiesenburg & Guinasso, 1979 (Table VI - nmol/L)\n",
        "    A1 = -415.2807\n",
        "    A2 = 596.8104\n",
        "    A3 = 379.2599\n",
        "    A4 = -62.0757\n",
        "    B1 = -0.059160\n",
        "    B2 = 0.032174\n",
        "    B3 = -0.0048198\n",
        "    S = salinity\n",
        "    T = 273.15+(temperature_C)\n",
        "    fg = 1.89*10**(-6) #2021 methane fraction in atmosphere\n",
        "\n",
        "    # Calculate each term of the equation\n",
        "    term1 = A1\n",
        "    term2 = A2 * (100 / T)\n",
        "    term3 = A3 * np.log(T / 100)\n",
        "    term4 = A4 * (T / 100)\n",
        "    term5 = S * (B1 + B2 * (T / 100) + B3 * (T / 100)**2)\n",
        "\n",
        "    # Calculate ln(beta) which is the sum of all terms (Eq. 3)\n",
        "    K0 = np.exp(np.log(fg) + term1 + term2 + term3 + term4 + term5)\n",
        "    #print('K0 = ', K0)\n",
        "\n",
        "    # Calculate the methane flux F in mol/(m^2 * s)\n",
        "    Cw_nM = bulk_c\n",
        "    F = k * (Cw_nM - K0)  \n",
        "    flux = F * 0.24 # umol/(m^2 * d)\n",
        "\n",
        "    #print(\"flux =\", flux)\n",
        "\n",
        "    return (stations,flux)\n",
        "\n",
        "def process_lists_from_csv(csv_file_path, average_speed):\n",
        "    # Load data from the CSV file\n",
        "    df = pd.read_csv(csv_file_path)\n",
        "    \n",
        "    # Extract columns into lists\n",
        "    bulk_c_list = df['nM'].tolist()\n",
        "    temperature_C_list = df['Temp'].tolist()\n",
        "    salinity_list = df['Sal'].tolist()\n",
        "    stations = df['station'].tolist()\n",
        "    \n",
        "     # Iterate over the elements of the lists simultaneously\n",
        "    fluxes = []\n",
        "    stations_f = []\n",
        "    for a, b, c, e in zip(bulk_c_list, temperature_C_list, salinity_list, stations):\n",
        "        # Call function_x with the corresponding elements and the single average_speed\n",
        "        fluxes.append(round(function_x(a, b, c, average_speed, e, 12)[1], 2))\n",
        "        stations_f.append(function_x(a, b, c, average_speed, e, 12)[0])\n",
        "\n",
        "    return fluxes, stations_f\n",
        "\n",
        "# Path to wind data file\n",
        "wind_speed_file = './CH4_data/CH4_WIND_DATA.json'\n",
        "average_speed = calculate_average_wind_speed(wind_speed_file)\n",
        "print('Average wind speed: {}'.format(average_speed))\n",
        "\n",
        "# Path to CH4 data file\n",
        "ch4_data_file = './CH4_data/CH4_data.csv'\n",
        "ch4_fluxes = process_lists_from_csv(ch4_data_file, average_speed)\n",
        "for x in range(0,15):\n",
        "    print('{} = {} umol/(m^2*d)'.format(ch4_fluxes[1][x],ch4_fluxes[0][x]))\n",
        "\n",
        "# Create a DataFrame from the fluxes and stations\n",
        "df = pd.DataFrame({\n",
        "    'Station': ch4_fluxes[1],\n",
        "    'Flux (umol/m^2*d)': ch4_fluxes[0]\n",
        "})\n",
        "\n",
        "# Save the DataFrame to a CSV file\n",
        "output_file_path = './CH4_data/CH4_fluxes.csv'\n",
        "df.to_csv(output_file_path, index=False)\n",
        "\n",
        "\n"
      ]
    },
    {
      "cell_type": "code",
      "execution_count": null,
      "metadata": {},
      "outputs": [],
      "source": []
    }
  ],
  "metadata": {
    "colab": {
      "provenance": []
    },
    "kernelspec": {
      "display_name": "Python 3",
      "name": "python3"
    },
    "language_info": {
      "codemirror_mode": {
        "name": "ipython",
        "version": 3
      },
      "file_extension": ".py",
      "mimetype": "text/x-python",
      "name": "python",
      "nbconvert_exporter": "python",
      "pygments_lexer": "ipython3",
      "version": "3.9.12"
    }
  },
  "nbformat": 4,
  "nbformat_minor": 0
}
