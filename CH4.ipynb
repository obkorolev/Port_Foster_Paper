{
  "nbformat": 4,
  "nbformat_minor": 0,
  "metadata": {
    "colab": {
      "provenance": []
    },
    "kernelspec": {
      "name": "python3",
      "display_name": "Python 3"
    },
    "language_info": {
      "name": "python"
    }
  },
  "cells": [
    {
      "cell_type": "code",
      "execution_count": 2,
      "metadata": {
        "id": "Spice16myRKJ"
      },
      "outputs": [],
      "source": [
        "import numpy as np"
      ]
    },
    {
      "cell_type": "code",
      "source": [
        "def function_x(bulk_c, temperature_C, salinity, wind_speed, stations):\n",
        "\n",
        "    print(stations)\n",
        "    #CH4 Schmidt number calculation\n",
        "\n",
        "    A = 2102.2\n",
        "    B = (-131.54)\n",
        "    C = 4.4931\n",
        "    D = (-0.08676)\n",
        "    E = 0.00070663\n",
        "    t = temperature_C\n",
        "\n",
        "    Sc_CH4_calc = A + B*t + C*t**2 + D*t**3 + E*t**4\n",
        "    print(\"Sc_CH4_calc =\", round(Sc_CH4_calc,4))\n",
        "\n",
        "    #MOIST AIR\n",
        "    A1 = -415.2807\n",
        "    A2 = 596.8104\n",
        "    A3 = 379.2599\n",
        "    A4 = -62.0757\n",
        "    B1 = -0.059160\n",
        "    B2 = 0.032174\n",
        "    B3 = -0.0048198\n",
        "    S = salinity\n",
        "    T = 273.15+(temperature_C)\n",
        "    fg = 1.89*10**(-6)\n",
        "\n",
        "    import numpy as np\n",
        "    # Calculate each term of the equation\n",
        "    term1 = A1\n",
        "    term2 = A2 * (100 / T)\n",
        "    term3 = A3 * np.log(T / 100)\n",
        "    term4 = A4 * (T / 100)\n",
        "    term5 = S * (B1 + B2 * (T / 100) + B3 * (T / 100)**2)\n",
        "\n",
        "    # Calculate ln(beta) which is the sum of all terms\n",
        "    K0 = np.exp(np.log(fg) + term1 + term2 + term3 + term4 + term5)\n",
        "    print('K0 = ', K0)\n",
        "\n",
        "    # Constants and conversion factors\n",
        "    a = 0.215  # cm/h\n",
        "    b = -0.5\n",
        "    U10 = wind_speed  # m/s converted to cm/s for consistency in units\n",
        "    Sc_CH4 = Sc_CH4_calc  # Schmidt number for CH4\n",
        "    Sc_ref = 660  # Reference Schmidt number for CO2\n",
        "\n",
        "\n",
        "    # Calculate the gas transfer velocity for CH4 (k)\n",
        "    k = a * (U10 ** 2) * ((Sc_CH4 / Sc_ref) ** b)  # cm/h\n",
        "\n",
        "    print(\"k =\", round(k,4))\n",
        "\n",
        "    Cw_nM = bulk_c\n",
        "\n",
        "    # Calculate the methane flux F in mol/(m^2 * s)\n",
        "    F = k * (Cw_nM - K0)  # umol/(m^2 * d)\n",
        "\n",
        "    flux = F * 0.24\n",
        "    print(\"flux =\", flux)\n",
        "\n",
        "    return flux\n",
        "\n",
        "\n",
        "def process_lists(bulk_c_list, temperature_C_list, salinity_list, wind_speed_list, stations):\n",
        "    # Iterate over the elements of the lists simultaneously\n",
        "    fluxes = []\n",
        "    for a, b, c, d, e in zip(bulk_c_list, temperature_C_list, salinity_list, wind_speed_list, stations):\n",
        "        # Call function_x with the corresponding elements\n",
        "        fluxes.append(round(function_x(a, b, c, d, e),2))\n",
        "\n",
        "    return fluxes\n",
        "\n",
        "\"\"\"\n",
        "bulk_c_list = [2.9]\n",
        "temperature_C_list = [29.03]\n",
        "salinity_list = [33.37]\n",
        "wind_speed_list = [3.7]\n",
        "stations = [\n",
        "    \"St. 2-1\"\n",
        "]\n",
        "\n",
        "\n",
        "\"\"\"\n",
        "# Example usage\n",
        "bulk_c_list = [7.79, 9.00, 9.17, 8.64, 7.42, 6.93, 7.71, 9.25, 9.60, 7.39, 6.52, 15.51, 13.12, 9.92, 8.39]\n",
        "temperature_C_list = [1.59, 1.58, 1.73, 1.81, 1.78, 1.82, 1.78, 2.64, 1.30, 1.77, 3.59, 1.99, 1.92, 1.70, 1.50]\n",
        "salinity_list = [33.94, 33.97, 33.97, 33.96, 33.97, 33.98, 33.97, 32.72, 32.81, 33.97, 32.36, 33.84, 33.89, 33.97, 34.01]\n",
        "wind_speed_list = [5.86, 6.45, 6.93, 7.03, 7.03, 7.13, 6.64, 9.57, 8.59, 8.59, 8.59, 9.28, 9.38, 9.28, 8.79]\n",
        "stations = [\n",
        "    \"St. 2-1\", \"St. 2-2\", \"St. 2-3\", \"St. 2-4\", \"St. 2-5\",\n",
        "    \"St. 2-6\", \"St. 2-7\", \"St. 2-8\", \"St. 2-9\", \"St. 2-10\",\n",
        "    \"St. 2-11\", \"St. 2-12\", \"St. 2-13\", \"St. 2-14\", \"St. 2-15\"\n",
        "]\n",
        "\n",
        "\n",
        "ch4_fluxes = process_lists(bulk_c_list, temperature_C_list, salinity_list, wind_speed_list, stations)\n",
        "print(ch4_fluxes)\n",
        "\n",
        "\n"
      ],
      "metadata": {
        "colab": {
          "base_uri": "https://localhost:8080/"
        },
        "id": "VrJeQNOUEprk",
        "outputId": "0df81718-9488-455f-db4f-a4154a6b9e25"
      },
      "execution_count": 15,
      "outputs": [
        {
          "output_type": "stream",
          "name": "stdout",
          "text": [
            "St. 2-1\n",
            "Sc_CH4_calc = 1904.0662\n",
            "K0 =  3.594169971880305\n",
            "k = 4.3467\n",
            "flux = 4.377173579293658\n",
            "St. 2-2\n",
            "Sc_CH4_calc = 1905.2456\n",
            "K0 =  3.59444395323537\n",
            "k = 5.2645\n",
            "flux = 6.829768654779198\n",
            "St. 2-3\n",
            "Sc_CH4_calc = 1887.6403\n",
            "K0 =  3.578835729323042\n",
            "k = 6.1054\n",
            "flux = 8.192770122270517\n",
            "St. 2-4\n",
            "Sc_CH4_calc = 1878.3256\n",
            "K0 =  3.5708166340846876\n",
            "k = 6.2985\n",
            "flux = 7.662754041153099\n",
            "St. 2-5\n",
            "Sc_CH4_calc = 1881.8125\n",
            "K0 =  3.57366049458901\n",
            "k = 6.2926\n",
            "flux = 5.80887133882941\n",
            "St. 2-6\n",
            "Sc_CH4_calc = 1877.1649\n",
            "K0 =  3.569275548753728\n",
            "k = 6.4809\n",
            "flux = 5.227360202026131\n",
            "St. 2-7\n",
            "Sc_CH4_calc = 1881.8125\n",
            "K0 =  3.57366049458901\n",
            "k = 5.6138\n",
            "flux = 5.572958748771572\n",
            "St. 2-8\n",
            "Sc_CH4_calc = 1784.6875\n",
            "K0 =  3.5177696504152656\n",
            "k = 11.9744\n",
            "flux = 16.473583878405766\n",
            "St. 2-9\n",
            "Sc_CH4_calc = 1938.6027\n",
            "K0 =  3.6541492435460574\n",
            "k = 9.2566\n",
            "flux = 13.209232650384447\n",
            "St. 2-10\n",
            "Sc_CH4_calc = 1882.9765\n",
            "K0 =  3.5746944463044827\n",
            "k = 9.3924\n",
            "flux = 8.600325251704861\n",
            "St. 2-11\n",
            "Sc_CH4_calc = 1683.9821\n",
            "K0 =  3.433814060541539\n",
            "k = 9.9318\n",
            "flux = 7.356332574472387\n",
            "St. 2-12\n",
            "Sc_CH4_calc = 1857.5559\n",
            "K0 =  3.5553640728755007\n",
            "k = 11.0366\n",
            "flux = 31.665258071568612\n",
            "St. 2-13\n",
            "Sc_CH4_calc = 1865.6021\n",
            "K0 =  3.5612724023560554\n",
            "k = 11.2514\n",
            "flux = 25.81177803675444\n",
            "St. 2-14\n",
            "Sc_CH4_calc = 1891.1467\n",
            "K0 =  3.581947452646013\n",
            "k = 10.9381\n",
            "flux = 16.638372639315087\n",
            "St. 2-15\n",
            "Sc_CH4_calc = 1914.7102\n",
            "K0 =  3.6017888734304284\n",
            "k = 9.753\n",
            "flux = 11.207820875273207\n",
            "[4.38, 6.83, 8.19, 7.66, 5.81, 5.23, 5.57, 16.47, 13.21, 8.6, 7.36, 31.67, 25.81, 16.64, 11.21]\n"
          ]
        }
      ]
    },
    {
      "cell_type": "code",
      "source": [
        "A1 = -415.2807\n",
        "A2 = 596.8104\n",
        "A3 = 379.2599\n",
        "A4 = -62.0757\n",
        "B1 = -0.05916\n",
        "B2 = 0.032174\n",
        "B3 = -0.0048198\n",
        "S = 33.94\n",
        "T_C = 1.59\n",
        "K = 273.15\n",
        "T = K + T_C"
      ],
      "metadata": {
        "id": "6Wf6USLqIYzx"
      },
      "execution_count": 18,
      "outputs": []
    },
    {
      "cell_type": "code",
      "source": [
        "#CH4 Schmidt number calculation\n",
        "\n",
        "A = 2102.2\n",
        "B = (-131.54)\n",
        "C = 4.4931\n",
        "D = (-0.08676)\n",
        "E = 0.00070663\n",
        "t = T_C\n",
        "\n",
        "Sc_CH4_calc = A + (B*t) + (C*t**2) + (D*t**3) + (E*t**4)\n",
        "print(\"Sc_C02_calc =\", round(Sc_CH4_calc,4))"
      ],
      "metadata": {
        "colab": {
          "base_uri": "https://localhost:8080/"
        },
        "id": "3FIbpSSSKG-4",
        "outputId": "81d81d82-9240-4930-d6fe-da3151f5c65f"
      },
      "execution_count": 20,
      "outputs": [
        {
          "output_type": "stream",
          "name": "stdout",
          "text": [
            "Sc_C02_calc = 1904.0662\n"
          ]
        }
      ]
    },
    {
      "cell_type": "code",
      "source": [
        "a = 0.215\n",
        "b = -0.5\n",
        "U10 = 5.86\n",
        "con_ch4 = 7.79"
      ],
      "metadata": {
        "id": "MzuzY9uvK2Pq"
      },
      "execution_count": 21,
      "outputs": []
    },
    {
      "cell_type": "code",
      "source": [
        "# Calculate the gas transfer velocity for CH4 (k)\n",
        "k = a * (U10 ** 2) * ((Sc_CH4_calc / 660) ** b)  # cm/h\n",
        "k"
      ],
      "metadata": {
        "colab": {
          "base_uri": "https://localhost:8080/"
        },
        "id": "_uxOPvgiKrYY",
        "outputId": "b15962d2-f8ee-4cd9-c1fa-c97f92ab9069"
      },
      "execution_count": 22,
      "outputs": [
        {
          "output_type": "execute_result",
          "data": {
            "text/plain": [
              "4.346749778906112"
            ]
          },
          "metadata": {},
          "execution_count": 22
        }
      ]
    },
    {
      "cell_type": "code",
      "source": [
        "C = np.exp(np.log(1.89*10**(-6)) + A1 + A2 * (100/T) + A3 * np.log(T/100) + A4 * (T/100) + S*(B1 + B2 * (T/100) + B3 * (T/100)**2))\n",
        "C"
      ],
      "metadata": {
        "colab": {
          "base_uri": "https://localhost:8080/"
        },
        "id": "T72I7SveLQOQ",
        "outputId": "8d73b2e7-923a-482e-cae3-ebd85a7b3605"
      },
      "execution_count": 23,
      "outputs": [
        {
          "output_type": "execute_result",
          "data": {
            "text/plain": [
              "3.594169971880305"
            ]
          },
          "metadata": {},
          "execution_count": 23
        }
      ]
    },
    {
      "cell_type": "code",
      "source": [
        "K = k * (con_ch4-C)\n",
        "K * 0.24"
      ],
      "metadata": {
        "colab": {
          "base_uri": "https://localhost:8080/"
        },
        "id": "qpl8MiYjW_5L",
        "outputId": "db2fbaf8-a94c-46c5-ed7f-098a2b59801a"
      },
      "execution_count": 24,
      "outputs": [
        {
          "output_type": "execute_result",
          "data": {
            "text/plain": [
              "4.377173579293658"
            ]
          },
          "metadata": {},
          "execution_count": 24
        }
      ]
    },
    {
      "cell_type": "code",
      "source": [],
      "metadata": {
        "id": "uD5jNA4MXEG7"
      },
      "execution_count": null,
      "outputs": []
    }
  ]
}