{
 "cells": [
  {
   "cell_type": "markdown",
   "metadata": {},
   "source": [
    "This script aims to calculate the sea-air CO2 flux from in-situ data."
   ]
  },
  {
   "cell_type": "markdown",
   "metadata": {},
   "source": [
    "Air-sea CO2 exchange in Port Foster, was calculated across the sampled stations according to the following equation:"
   ]
  },
  {
   "cell_type": "markdown",
   "metadata": {},
   "source": [
    "$F=kK^\\prime\\left({\\mathrm{pCO}}_{2\\mathrm{W}}-{\\mathrm{pCO}}_{2\\mathrm{A}}\\right)\\ \\ \\ \\ (Eq.1)$"
   ]
  },
  {
   "cell_type": "markdown",
   "metadata": {},
   "source": [
    "where F is the flux (in mol m-2 yr-1), k is the gas transfer velocity (in cm h-1), K’ is the CO2 atmospheric equilibrium solubility from moist air (in mol L-1 atm-1) and pCO2W and pCO2A denote the partial pressures of CO2 (in µatm) in equilibrium with surface water and the overlying air respectively."
   ]
  },
  {
   "cell_type": "markdown",
   "metadata": {},
   "source": [
    "In equation 1, k  was estimated according to (Wanninkhof, 2014):"
   ]
  },
  {
   "cell_type": "markdown",
   "metadata": {},
   "source": [
    "$k\\ =\\ a\\ {<U10>}^2\\left(\\frac{{Sc}_{CO2}}{660}\\right)^{-0.5}\\ \\ \\ \\ (Eq.\\ 2)$"
   ]
  },
  {
   "cell_type": "markdown",
   "metadata": {},
   "source": [
    "K’ was obtained as:"
   ]
  },
  {
   "cell_type": "markdown",
   "metadata": {},
   "source": [
    "$\\ln{K'}=A_1+A_2\\left(\\frac{100}{T}\\right)+A_3\\ln{\\left(\\frac{T}{100}\\right)}+A_4\\left(\\frac{T}{100}\\right)^2+S‰[B1+B2{\\left(\\frac{T}{100}\\right)}+B3{\\left(\\frac{T}{100}\\right)}^2]\\ \\ \\ \\ (Eq.3) $ "
   ]
  },
  {
   "cell_type": "markdown",
   "metadata": {},
   "source": [
    "T is the temperature in Kelvin and S is the salinity expressed in ppm. Ai and Bi are the constants (moist air) for calculation of solubilities in mol L-1 atm-1: A1 = -160.7333; A2 = 215.4152; A3 = 89.8920; A4 = -1.47759; B1 = 0.029941; B2 = -0.027455; B3 = 0.0053407 (Weiss and Price, 1980). To account for the CO2 partial pressure in air, Palmer station monthly mean data for January 2021 was used, equivalent to 410.5 ppm. Finally, CO2 saturation ratios were calculated as pCO2W/ pCO2A × 100."
   ]
  },
  {
   "cell_type": "code",
   "execution_count": 1,
   "metadata": {},
   "outputs": [
    {
     "name": "stdout",
     "output_type": "stream",
     "text": [
      "Average wind speed: 7.077483146067398\n",
      "St. 1-1 = 14.8 mmol/(m^2*d) or 5.4 mol/(m^2*y)\n",
      "St. 1-2 = 8.32 mmol/(m^2*d) or 3.04 mol/(m^2*y)\n",
      "St. 1-3 = -3.32 mmol/(m^2*d) or -1.21 mol/(m^2*y)\n",
      "St. 1-4 = -8.16 mmol/(m^2*d) or -2.98 mol/(m^2*y)\n",
      "St. 1-5 = -8.54 mmol/(m^2*d) or -3.12 mol/(m^2*y)\n",
      "St. 1-6 = -6.98 mmol/(m^2*d) or -2.55 mol/(m^2*y)\n",
      "St. 1-7 = -7.08 mmol/(m^2*d) or -2.58 mol/(m^2*y)\n",
      "St. 1-8 = -30.48 mmol/(m^2*d) or -11.13 mol/(m^2*y)\n",
      "St. 1-9 = -11.37 mmol/(m^2*d) or -4.15 mol/(m^2*y)\n",
      "St. 1-10 = -9.45 mmol/(m^2*d) or -3.45 mol/(m^2*y)\n",
      "St. 1-11 = -8.95 mmol/(m^2*d) or -3.27 mol/(m^2*y)\n",
      "St. 1-12 = -10.44 mmol/(m^2*d) or -3.81 mol/(m^2*y)\n",
      "St. 1-13 = -9.95 mmol/(m^2*d) or -3.63 mol/(m^2*y)\n",
      "St. 1-14 = 1.38 mmol/(m^2*d) or 0.5 mol/(m^2*y)\n",
      "St. 1-15 = 51.94 mmol/(m^2*d) or 18.96 mol/(m^2*y)\n",
      "St. 1-16 = 4.9 mmol/(m^2*d) or 1.79 mol/(m^2*y)\n",
      "St. 1-17 = -1.26 mmol/(m^2*d) or -0.46 mol/(m^2*y)\n",
      "St. 1-18 = -8.6 mmol/(m^2*d) or -3.14 mol/(m^2*y)\n",
      "St. 1-19 = -10.44 mmol/(m^2*d) or -3.81 mol/(m^2*y)\n",
      "St. 1-20 = -11.69 mmol/(m^2*d) or -4.27 mol/(m^2*y)\n"
     ]
    },
    {
     "ename": "PermissionError",
     "evalue": "[Errno 13] Permission denied: './CO2_data/CO2_fluxes.csv'",
     "output_type": "error",
     "traceback": [
      "\u001b[1;31m---------------------------------------------------------------------------\u001b[0m",
      "\u001b[1;31mPermissionError\u001b[0m                           Traceback (most recent call last)",
      "Input \u001b[1;32mIn [1]\u001b[0m, in \u001b[0;36m<cell line: 143>\u001b[1;34m()\u001b[0m\n\u001b[0;32m    141\u001b[0m \u001b[38;5;66;03m# Save the DataFrame to a CSV file\u001b[39;00m\n\u001b[0;32m    142\u001b[0m output_file_path \u001b[38;5;241m=\u001b[39m \u001b[38;5;124m'\u001b[39m\u001b[38;5;124m./CO2_data/CO2_fluxes.csv\u001b[39m\u001b[38;5;124m'\u001b[39m\n\u001b[1;32m--> 143\u001b[0m \u001b[43mdf\u001b[49m\u001b[38;5;241;43m.\u001b[39;49m\u001b[43mto_csv\u001b[49m\u001b[43m(\u001b[49m\u001b[43moutput_file_path\u001b[49m\u001b[43m,\u001b[49m\u001b[43m \u001b[49m\u001b[43mindex\u001b[49m\u001b[38;5;241;43m=\u001b[39;49m\u001b[38;5;28;43;01mFalse\u001b[39;49;00m\u001b[43m)\u001b[49m\n",
      "File \u001b[1;32mc:\\Users\\Oleg\\anaconda3\\envs\\PyTorch\\lib\\site-packages\\pandas\\core\\generic.py:3551\u001b[0m, in \u001b[0;36mNDFrame.to_csv\u001b[1;34m(self, path_or_buf, sep, na_rep, float_format, columns, header, index, index_label, mode, encoding, compression, quoting, quotechar, line_terminator, chunksize, date_format, doublequote, escapechar, decimal, errors, storage_options)\u001b[0m\n\u001b[0;32m   3540\u001b[0m df \u001b[38;5;241m=\u001b[39m \u001b[38;5;28mself\u001b[39m \u001b[38;5;28;01mif\u001b[39;00m \u001b[38;5;28misinstance\u001b[39m(\u001b[38;5;28mself\u001b[39m, ABCDataFrame) \u001b[38;5;28;01melse\u001b[39;00m \u001b[38;5;28mself\u001b[39m\u001b[38;5;241m.\u001b[39mto_frame()\n\u001b[0;32m   3542\u001b[0m formatter \u001b[38;5;241m=\u001b[39m DataFrameFormatter(\n\u001b[0;32m   3543\u001b[0m     frame\u001b[38;5;241m=\u001b[39mdf,\n\u001b[0;32m   3544\u001b[0m     header\u001b[38;5;241m=\u001b[39mheader,\n\u001b[1;32m   (...)\u001b[0m\n\u001b[0;32m   3548\u001b[0m     decimal\u001b[38;5;241m=\u001b[39mdecimal,\n\u001b[0;32m   3549\u001b[0m )\n\u001b[1;32m-> 3551\u001b[0m \u001b[38;5;28;01mreturn\u001b[39;00m \u001b[43mDataFrameRenderer\u001b[49m\u001b[43m(\u001b[49m\u001b[43mformatter\u001b[49m\u001b[43m)\u001b[49m\u001b[38;5;241;43m.\u001b[39;49m\u001b[43mto_csv\u001b[49m\u001b[43m(\u001b[49m\n\u001b[0;32m   3552\u001b[0m \u001b[43m    \u001b[49m\u001b[43mpath_or_buf\u001b[49m\u001b[43m,\u001b[49m\n\u001b[0;32m   3553\u001b[0m \u001b[43m    \u001b[49m\u001b[43mline_terminator\u001b[49m\u001b[38;5;241;43m=\u001b[39;49m\u001b[43mline_terminator\u001b[49m\u001b[43m,\u001b[49m\n\u001b[0;32m   3554\u001b[0m \u001b[43m    \u001b[49m\u001b[43msep\u001b[49m\u001b[38;5;241;43m=\u001b[39;49m\u001b[43msep\u001b[49m\u001b[43m,\u001b[49m\n\u001b[0;32m   3555\u001b[0m \u001b[43m    \u001b[49m\u001b[43mencoding\u001b[49m\u001b[38;5;241;43m=\u001b[39;49m\u001b[43mencoding\u001b[49m\u001b[43m,\u001b[49m\n\u001b[0;32m   3556\u001b[0m \u001b[43m    \u001b[49m\u001b[43merrors\u001b[49m\u001b[38;5;241;43m=\u001b[39;49m\u001b[43merrors\u001b[49m\u001b[43m,\u001b[49m\n\u001b[0;32m   3557\u001b[0m \u001b[43m    \u001b[49m\u001b[43mcompression\u001b[49m\u001b[38;5;241;43m=\u001b[39;49m\u001b[43mcompression\u001b[49m\u001b[43m,\u001b[49m\n\u001b[0;32m   3558\u001b[0m \u001b[43m    \u001b[49m\u001b[43mquoting\u001b[49m\u001b[38;5;241;43m=\u001b[39;49m\u001b[43mquoting\u001b[49m\u001b[43m,\u001b[49m\n\u001b[0;32m   3559\u001b[0m \u001b[43m    \u001b[49m\u001b[43mcolumns\u001b[49m\u001b[38;5;241;43m=\u001b[39;49m\u001b[43mcolumns\u001b[49m\u001b[43m,\u001b[49m\n\u001b[0;32m   3560\u001b[0m \u001b[43m    \u001b[49m\u001b[43mindex_label\u001b[49m\u001b[38;5;241;43m=\u001b[39;49m\u001b[43mindex_label\u001b[49m\u001b[43m,\u001b[49m\n\u001b[0;32m   3561\u001b[0m \u001b[43m    \u001b[49m\u001b[43mmode\u001b[49m\u001b[38;5;241;43m=\u001b[39;49m\u001b[43mmode\u001b[49m\u001b[43m,\u001b[49m\n\u001b[0;32m   3562\u001b[0m \u001b[43m    \u001b[49m\u001b[43mchunksize\u001b[49m\u001b[38;5;241;43m=\u001b[39;49m\u001b[43mchunksize\u001b[49m\u001b[43m,\u001b[49m\n\u001b[0;32m   3563\u001b[0m \u001b[43m    \u001b[49m\u001b[43mquotechar\u001b[49m\u001b[38;5;241;43m=\u001b[39;49m\u001b[43mquotechar\u001b[49m\u001b[43m,\u001b[49m\n\u001b[0;32m   3564\u001b[0m \u001b[43m    \u001b[49m\u001b[43mdate_format\u001b[49m\u001b[38;5;241;43m=\u001b[39;49m\u001b[43mdate_format\u001b[49m\u001b[43m,\u001b[49m\n\u001b[0;32m   3565\u001b[0m \u001b[43m    \u001b[49m\u001b[43mdoublequote\u001b[49m\u001b[38;5;241;43m=\u001b[39;49m\u001b[43mdoublequote\u001b[49m\u001b[43m,\u001b[49m\n\u001b[0;32m   3566\u001b[0m \u001b[43m    \u001b[49m\u001b[43mescapechar\u001b[49m\u001b[38;5;241;43m=\u001b[39;49m\u001b[43mescapechar\u001b[49m\u001b[43m,\u001b[49m\n\u001b[0;32m   3567\u001b[0m \u001b[43m    \u001b[49m\u001b[43mstorage_options\u001b[49m\u001b[38;5;241;43m=\u001b[39;49m\u001b[43mstorage_options\u001b[49m\u001b[43m,\u001b[49m\n\u001b[0;32m   3568\u001b[0m \u001b[43m\u001b[49m\u001b[43m)\u001b[49m\n",
      "File \u001b[1;32mc:\\Users\\Oleg\\anaconda3\\envs\\PyTorch\\lib\\site-packages\\pandas\\io\\formats\\format.py:1180\u001b[0m, in \u001b[0;36mDataFrameRenderer.to_csv\u001b[1;34m(self, path_or_buf, encoding, sep, columns, index_label, mode, compression, quoting, quotechar, line_terminator, chunksize, date_format, doublequote, escapechar, errors, storage_options)\u001b[0m\n\u001b[0;32m   1159\u001b[0m     created_buffer \u001b[38;5;241m=\u001b[39m \u001b[38;5;28;01mFalse\u001b[39;00m\n\u001b[0;32m   1161\u001b[0m csv_formatter \u001b[38;5;241m=\u001b[39m CSVFormatter(\n\u001b[0;32m   1162\u001b[0m     path_or_buf\u001b[38;5;241m=\u001b[39mpath_or_buf,\n\u001b[0;32m   1163\u001b[0m     line_terminator\u001b[38;5;241m=\u001b[39mline_terminator,\n\u001b[1;32m   (...)\u001b[0m\n\u001b[0;32m   1178\u001b[0m     formatter\u001b[38;5;241m=\u001b[39m\u001b[38;5;28mself\u001b[39m\u001b[38;5;241m.\u001b[39mfmt,\n\u001b[0;32m   1179\u001b[0m )\n\u001b[1;32m-> 1180\u001b[0m \u001b[43mcsv_formatter\u001b[49m\u001b[38;5;241;43m.\u001b[39;49m\u001b[43msave\u001b[49m\u001b[43m(\u001b[49m\u001b[43m)\u001b[49m\n\u001b[0;32m   1182\u001b[0m \u001b[38;5;28;01mif\u001b[39;00m created_buffer:\n\u001b[0;32m   1183\u001b[0m     \u001b[38;5;28;01massert\u001b[39;00m \u001b[38;5;28misinstance\u001b[39m(path_or_buf, StringIO)\n",
      "File \u001b[1;32mc:\\Users\\Oleg\\anaconda3\\envs\\PyTorch\\lib\\site-packages\\pandas\\io\\formats\\csvs.py:241\u001b[0m, in \u001b[0;36mCSVFormatter.save\u001b[1;34m(self)\u001b[0m\n\u001b[0;32m    237\u001b[0m \u001b[38;5;124;03m\"\"\"\u001b[39;00m\n\u001b[0;32m    238\u001b[0m \u001b[38;5;124;03mCreate the writer & save.\u001b[39;00m\n\u001b[0;32m    239\u001b[0m \u001b[38;5;124;03m\"\"\"\u001b[39;00m\n\u001b[0;32m    240\u001b[0m \u001b[38;5;66;03m# apply compression and byte/text conversion\u001b[39;00m\n\u001b[1;32m--> 241\u001b[0m \u001b[38;5;28;01mwith\u001b[39;00m \u001b[43mget_handle\u001b[49m\u001b[43m(\u001b[49m\n\u001b[0;32m    242\u001b[0m \u001b[43m    \u001b[49m\u001b[38;5;28;43mself\u001b[39;49m\u001b[38;5;241;43m.\u001b[39;49m\u001b[43mfilepath_or_buffer\u001b[49m\u001b[43m,\u001b[49m\n\u001b[0;32m    243\u001b[0m \u001b[43m    \u001b[49m\u001b[38;5;28;43mself\u001b[39;49m\u001b[38;5;241;43m.\u001b[39;49m\u001b[43mmode\u001b[49m\u001b[43m,\u001b[49m\n\u001b[0;32m    244\u001b[0m \u001b[43m    \u001b[49m\u001b[43mencoding\u001b[49m\u001b[38;5;241;43m=\u001b[39;49m\u001b[38;5;28;43mself\u001b[39;49m\u001b[38;5;241;43m.\u001b[39;49m\u001b[43mencoding\u001b[49m\u001b[43m,\u001b[49m\n\u001b[0;32m    245\u001b[0m \u001b[43m    \u001b[49m\u001b[43merrors\u001b[49m\u001b[38;5;241;43m=\u001b[39;49m\u001b[38;5;28;43mself\u001b[39;49m\u001b[38;5;241;43m.\u001b[39;49m\u001b[43merrors\u001b[49m\u001b[43m,\u001b[49m\n\u001b[0;32m    246\u001b[0m \u001b[43m    \u001b[49m\u001b[43mcompression\u001b[49m\u001b[38;5;241;43m=\u001b[39;49m\u001b[38;5;28;43mself\u001b[39;49m\u001b[38;5;241;43m.\u001b[39;49m\u001b[43mcompression\u001b[49m\u001b[43m,\u001b[49m\n\u001b[0;32m    247\u001b[0m \u001b[43m    \u001b[49m\u001b[43mstorage_options\u001b[49m\u001b[38;5;241;43m=\u001b[39;49m\u001b[38;5;28;43mself\u001b[39;49m\u001b[38;5;241;43m.\u001b[39;49m\u001b[43mstorage_options\u001b[49m\u001b[43m,\u001b[49m\n\u001b[0;32m    248\u001b[0m \u001b[43m\u001b[49m\u001b[43m)\u001b[49m \u001b[38;5;28;01mas\u001b[39;00m handles:\n\u001b[0;32m    249\u001b[0m \n\u001b[0;32m    250\u001b[0m     \u001b[38;5;66;03m# Note: self.encoding is irrelevant here\u001b[39;00m\n\u001b[0;32m    251\u001b[0m     \u001b[38;5;28mself\u001b[39m\u001b[38;5;241m.\u001b[39mwriter \u001b[38;5;241m=\u001b[39m csvlib\u001b[38;5;241m.\u001b[39mwriter(\n\u001b[0;32m    252\u001b[0m         handles\u001b[38;5;241m.\u001b[39mhandle,\n\u001b[0;32m    253\u001b[0m         lineterminator\u001b[38;5;241m=\u001b[39m\u001b[38;5;28mself\u001b[39m\u001b[38;5;241m.\u001b[39mline_terminator,\n\u001b[1;32m   (...)\u001b[0m\n\u001b[0;32m    258\u001b[0m         quotechar\u001b[38;5;241m=\u001b[39m\u001b[38;5;28mself\u001b[39m\u001b[38;5;241m.\u001b[39mquotechar,\n\u001b[0;32m    259\u001b[0m     )\n\u001b[0;32m    261\u001b[0m     \u001b[38;5;28mself\u001b[39m\u001b[38;5;241m.\u001b[39m_save()\n",
      "File \u001b[1;32mc:\\Users\\Oleg\\anaconda3\\envs\\PyTorch\\lib\\site-packages\\pandas\\io\\common.py:789\u001b[0m, in \u001b[0;36mget_handle\u001b[1;34m(path_or_buf, mode, encoding, compression, memory_map, is_text, errors, storage_options)\u001b[0m\n\u001b[0;32m    784\u001b[0m \u001b[38;5;28;01melif\u001b[39;00m \u001b[38;5;28misinstance\u001b[39m(handle, \u001b[38;5;28mstr\u001b[39m):\n\u001b[0;32m    785\u001b[0m     \u001b[38;5;66;03m# Check whether the filename is to be opened in binary mode.\u001b[39;00m\n\u001b[0;32m    786\u001b[0m     \u001b[38;5;66;03m# Binary mode does not support 'encoding' and 'newline'.\u001b[39;00m\n\u001b[0;32m    787\u001b[0m     \u001b[38;5;28;01mif\u001b[39;00m ioargs\u001b[38;5;241m.\u001b[39mencoding \u001b[38;5;129;01mand\u001b[39;00m \u001b[38;5;124m\"\u001b[39m\u001b[38;5;124mb\u001b[39m\u001b[38;5;124m\"\u001b[39m \u001b[38;5;129;01mnot\u001b[39;00m \u001b[38;5;129;01min\u001b[39;00m ioargs\u001b[38;5;241m.\u001b[39mmode:\n\u001b[0;32m    788\u001b[0m         \u001b[38;5;66;03m# Encoding\u001b[39;00m\n\u001b[1;32m--> 789\u001b[0m         handle \u001b[38;5;241m=\u001b[39m \u001b[38;5;28;43mopen\u001b[39;49m\u001b[43m(\u001b[49m\n\u001b[0;32m    790\u001b[0m \u001b[43m            \u001b[49m\u001b[43mhandle\u001b[49m\u001b[43m,\u001b[49m\n\u001b[0;32m    791\u001b[0m \u001b[43m            \u001b[49m\u001b[43mioargs\u001b[49m\u001b[38;5;241;43m.\u001b[39;49m\u001b[43mmode\u001b[49m\u001b[43m,\u001b[49m\n\u001b[0;32m    792\u001b[0m \u001b[43m            \u001b[49m\u001b[43mencoding\u001b[49m\u001b[38;5;241;43m=\u001b[39;49m\u001b[43mioargs\u001b[49m\u001b[38;5;241;43m.\u001b[39;49m\u001b[43mencoding\u001b[49m\u001b[43m,\u001b[49m\n\u001b[0;32m    793\u001b[0m \u001b[43m            \u001b[49m\u001b[43merrors\u001b[49m\u001b[38;5;241;43m=\u001b[39;49m\u001b[43merrors\u001b[49m\u001b[43m,\u001b[49m\n\u001b[0;32m    794\u001b[0m \u001b[43m            \u001b[49m\u001b[43mnewline\u001b[49m\u001b[38;5;241;43m=\u001b[39;49m\u001b[38;5;124;43m\"\u001b[39;49m\u001b[38;5;124;43m\"\u001b[39;49m\u001b[43m,\u001b[49m\n\u001b[0;32m    795\u001b[0m \u001b[43m        \u001b[49m\u001b[43m)\u001b[49m\n\u001b[0;32m    796\u001b[0m     \u001b[38;5;28;01melse\u001b[39;00m:\n\u001b[0;32m    797\u001b[0m         \u001b[38;5;66;03m# Binary mode\u001b[39;00m\n\u001b[0;32m    798\u001b[0m         handle \u001b[38;5;241m=\u001b[39m \u001b[38;5;28mopen\u001b[39m(handle, ioargs\u001b[38;5;241m.\u001b[39mmode)\n",
      "\u001b[1;31mPermissionError\u001b[0m: [Errno 13] Permission denied: './CO2_data/CO2_fluxes.csv'"
     ]
    }
   ],
   "source": [
    "import numpy as np\n",
    "import pandas as pd\n",
    "import json\n",
    "from datetime import datetime\n",
    "\n",
    "def calculate_average_wind_speed(file_path):\n",
    "    # Load the JSON data from the specified file\n",
    "    with open(file_path, 'r') as file:\n",
    "        data = json.load(file)\n",
    "    \n",
    "    # Extract the wind speeds and timestamps\n",
    "    wind_speeds = []\n",
    "    timestamps = set()  # To track unique timestamps\n",
    "    \n",
    "    for i, entry in enumerate(data):\n",
    "        if i % 3 != 0:  # Skip the first dictionary of each 10-minute interval\n",
    "            timestamp = entry['fhora']\n",
    "            if timestamp not in timestamps:\n",
    "                wind_speed = entry['vel']\n",
    "                if wind_speed != 'NaN':  # Ensure the wind speed is a valid number\n",
    "                    wind_speeds.append(float(wind_speed))\n",
    "                timestamps.add(timestamp)\n",
    "    \n",
    "    # Calculate the average wind speed\n",
    "    if wind_speeds:\n",
    "        average_wind_speed = sum(wind_speeds) / len(wind_speeds)\n",
    "    else:\n",
    "        average_wind_speed = 0\n",
    "\n",
    "    return average_wind_speed\n",
    "\n",
    "def function_x(fpCO2, temperature, salinity, wind_speed, stations, anem_height):\n",
    "\n",
    "    '''\n",
    "    Gas transfer velocity calculation (k) function\n",
    "\n",
    "    Parameters:\n",
    "\n",
    "    fpCO2: partial pressure of CO2 in seawater\n",
    "    temperature: water temperature in ºC\n",
    "    salinity: water salinity in PSU\n",
    "    anem_height: the height of the meteo station at which the wind veolicty is recorded\n",
    "    wind_speed: wind speed data recorded at the anemometer\n",
    "    stations: number of the station\n",
    "\n",
    "    Output:\n",
    "    CO2 sea-water flux\n",
    "    '''\n",
    "    \n",
    "    # following the Equation 2: k = a * U10^2 * (ScCO2/Sc_ref)^b\n",
    "\n",
    "    a = 0.251  # cm/h, from Wanninkhof, 2014.\n",
    "    h = anem_height # effective height of the anemometer above the mean sea level\n",
    "    Vh = wind_speed\n",
    "    U10 = Vh/((h/10)**0.13)  \n",
    "    b = -0.5\n",
    "    Sc_ref = 660  # Reference Schmidt number\n",
    "\n",
    "    # CO2 Schmidt number calculation\n",
    "    # Constants for CO2 obtained from Wanninkhof, 2014 (Table 1 - Seawater)\n",
    "\n",
    "    A = 2116.8\n",
    "    B = (-136.25)\n",
    "    C = 4.7353\n",
    "    D = (-0.092307)\n",
    "    E = 0.0007555\n",
    "    t = temperature\n",
    "\n",
    "    Sc_CO2 = A + B*t + C*t**2 + D*t**3 + E*t**4\n",
    "    #print(\"Sc_CO2 =\", round(Sc_CO2,4))\n",
    "\n",
    "    # Calculate the gas transfer velocity for CO2 (k)\n",
    "    k = a * (U10 ** 2) * ((Sc_CO2 / Sc_ref) ** b)  # cm/h\n",
    "\n",
    "    #print(\"k =\", round(k,4))\n",
    "\n",
    "    A1 = -160.7333\n",
    "    A2 = 215.4152\n",
    "    A3 = 89.8920\n",
    "    A4 = -1.47759\n",
    "    B1 = 0.029941\n",
    "    B2 = -0.027455\n",
    "    B3 = 0.0053407\n",
    "    S = salinity\n",
    "    K = 273.15\n",
    "    T = K + temperature\n",
    "\n",
    "    K_prima = np.exp(A1 + A2 * (100/T) + A3 * np.log(T/100) + A4 * (T/100)**2 + S*(B1 + B2 * (T/100) + B3 * (T/100)**2))\n",
    "    #print('K0 = ', K0)\n",
    "\n",
    "    pCO2a = 410.5 # Palmer station monthly mean data for January 2021\n",
    "    delta_pCO2 = fpCO2 - pCO2a\n",
    "\n",
    "    F_umol = k * K_prima * (delta_pCO2) * 240 # umol m-2 d-1\n",
    "    F_mmol = k * K_prima * (delta_pCO2) * 0.24 # mmol m-2 d-1\n",
    "    F_mol = k * K_prima * (delta_pCO2) * 24 * 10**(-5)\n",
    "    F_mol_y = k * K_prima * (delta_pCO2) * 24 * 365 * 10**(-5)\n",
    "\n",
    "    return (stations, F_mol_y, F_mmol)\n",
    "\n",
    "def process_lists_from_csv(csv_file_path, average_speed):\n",
    "    # Load data from the CSV file\n",
    "    df = pd.read_csv(csv_file_path)\n",
    "    \n",
    "    # Extract columns into lists\n",
    "    bulk_c_list = df['pCO2w'].tolist()\n",
    "    temperature_C_list = df['Temp'].tolist()\n",
    "    salinity_list = df['Sal'].tolist()\n",
    "    stations = df['station'].tolist()\n",
    "    \n",
    "     # Iterate over the elements of the lists simultaneously\n",
    "    fluxes_y = []\n",
    "    fluxes_d = []\n",
    "    stations_f = []\n",
    "    for a, b, c, e in zip(bulk_c_list, temperature_C_list, salinity_list, stations):\n",
    "        # Call function_x with the corresponding elements and the single average_speed\n",
    "        fluxes_y.append(round(function_x(a, b, c, average_speed, e, 12)[1], 2))\n",
    "        fluxes_d.append(round(function_x(a, b, c, average_speed, e, 12)[2], 2))\n",
    "        stations_f.append(function_x(a, b, c, average_speed, e, 12)[0])\n",
    "\n",
    "    return fluxes_y, fluxes_d, stations_f\n",
    "\n",
    "# Path to wind data file\n",
    "wind_speed_file = './CO2_data/CO2_WIND_DATA.json'\n",
    "average_speed = calculate_average_wind_speed(wind_speed_file)\n",
    "print('Average wind speed: {}'.format(average_speed))\n",
    "\n",
    "# Path to CH4 data file\n",
    "co2_data_file = './CO2_data/CO2_data.csv'\n",
    "co2_fluxes = process_lists_from_csv(co2_data_file, average_speed)\n",
    "for x in range(0,20):\n",
    "    print('{} = {} mmol/(m^2*d) or {} mol/(m^2*y)'.format(co2_fluxes[2][x],co2_fluxes[1][x],co2_fluxes[0][x]))\n",
    "\n",
    "# Create a DataFrame from the fluxes and stations\n",
    "df = pd.DataFrame({\n",
    "    'Station': co2_fluxes[2],\n",
    "    'Flux (mmol/m^2*d)': co2_fluxes[1],\n",
    "    'Flux (mol/m^2*y)': co2_fluxes[0]\n",
    "})\n",
    "\n",
    "# Save the DataFrame to a CSV file\n",
    "output_file_path = './CO2_data/CO2_fluxes.csv'\n",
    "df.to_csv(output_file_path, index=False)\n",
    "\n"
   ]
  },
  {
   "cell_type": "code",
   "execution_count": null,
   "metadata": {},
   "outputs": [],
   "source": []
  }
 ],
 "metadata": {
  "kernelspec": {
   "display_name": "PyTorch",
   "language": "python",
   "name": "python3"
  },
  "language_info": {
   "codemirror_mode": {
    "name": "ipython",
    "version": 3
   },
   "file_extension": ".py",
   "mimetype": "text/x-python",
   "name": "python",
   "nbconvert_exporter": "python",
   "pygments_lexer": "ipython3",
   "version": "3.9.12"
  }
 },
 "nbformat": 4,
 "nbformat_minor": 2
}
