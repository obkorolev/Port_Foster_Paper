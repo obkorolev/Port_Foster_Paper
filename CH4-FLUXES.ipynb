{
  "nbformat": 4,
  "nbformat_minor": 0,
  "metadata": {
    "colab": {
      "provenance": []
    },
    "kernelspec": {
      "name": "python3",
      "display_name": "Python 3"
    },
    "language_info": {
      "name": "python"
    }
  },
  "cells": [
    {
      "cell_type": "code",
      "execution_count": null,
      "metadata": {
        "id": "Spice16myRKJ"
      },
      "outputs": [],
      "source": [
        "import numpy as np"
      ]
    },
    {
      "cell_type": "code",
      "source": [
        "def function_x(bulk_c, temperature_C, salinity, wind_speed, stations):\n",
        "\n",
        "    #CH4 Schmidt number calculation\n",
        "\n",
        "    A = 2102.2\n",
        "    B = (-131.54)\n",
        "    C = 4.4931\n",
        "    D = (-0.08676)\n",
        "    E = 0.00070663\n",
        "    t = temperature_C\n",
        "\n",
        "    Sc_CH4_calc = A + B*t + C*t**2 + D*t**3 + E*t**4\n",
        "\n",
        "    #MOIST AIR\n",
        "    A1 = -415.2807\n",
        "    A2 = 596.8104\n",
        "    A3 = 379.2599\n",
        "    A4 = -62.0757\n",
        "    B1 = -0.059160\n",
        "    B2 = 0.032174\n",
        "    B3 = -0.0048198\n",
        "    S = salinity\n",
        "    T = 273.15+(temperature_C)\n",
        "    fg = 1.89*10**(-6)\n",
        "\n",
        "    # Calculate each term of the equation\n",
        "    term1 = A1\n",
        "    term2 = A2 * (100 / T)\n",
        "    term3 = A3 * np.log(T / 100)\n",
        "    term4 = A4 * (T / 100)\n",
        "    term5 = S * (B1 + B2 * (T / 100) + B3 * (T / 100)**2)\n",
        "\n",
        "    # Calculate ln(beta) which is the sum of all terms\n",
        "    K0 = np.exp(np.log(fg) + term1 + term2 + term3 + term4 + term5)\n",
        "\n",
        "    # Constants and conversion factors\n",
        "    a = 0.215  # cm/h\n",
        "    b = -0.5\n",
        "    U10 = wind_speed  # m/s converted to cm/s for consistency in units\n",
        "    Sc_CH4 = Sc_CH4_calc  # Schmidt number for CH4\n",
        "    Sc_ref = 660  # Reference Schmidt number for CO2\n",
        "\n",
        "\n",
        "    # Calculate the gas transfer velocity for CH4 (k)\n",
        "    k = a * (U10 ** 2) * ((Sc_CH4 / Sc_ref) ** b)  # cm/h\n",
        "\n",
        "    Cw_nM = bulk_c\n",
        "\n",
        "    # Calculate the methane flux F in mol/(m^2 * s)\n",
        "    F = k * (Cw_nM - K0)  # umol/(m^2 * d)\n",
        "\n",
        "    flux = F * 0.24\n",
        "\n",
        "    return flux\n",
        "\n",
        "\n",
        "def process_lists(bulk_c_list, temperature_C_list, salinity_list, wind_speed_avg, stations):\n",
        "    # Iterate over the elements of the lists simultaneously\n",
        "    fluxes = []\n",
        "    for a, b, c, e in zip(bulk_c_list, temperature_C_list, salinity_list, stations):\n",
        "        # Call function_x with the corresponding elements\n",
        "        fluxes.append(round(function_x(a, b, c, wind_speed_avg, e),2))\n",
        "\n",
        "    return fluxes\n",
        "\n",
        "# Example usage\n",
        "bulk_c_list = [7.79, 9.00, 9.17, 8.64, 7.42, 6.93, 7.71, 9.25, 9.60, 7.39, 6.52, 15.51, 13.12, 9.92, 8.39]\n",
        "temperature_C_list = [1.59, 1.58, 1.73, 1.81, 1.78, 1.82, 1.78, 2.64, 1.30, 1.77, 3.59, 1.99, 1.92, 1.70, 1.50]\n",
        "salinity_list = [33.94, 33.97, 33.97, 33.96, 33.97, 33.98, 33.97, 32.72, 32.81, 33.97, 32.36, 33.84, 33.89, 33.97, 34.01]\n",
        "#wind_speed_list = [5.86, 6.45, 6.93, 7.03, 7.03, 7.13, 6.64, 9.57, 8.59, 8.59, 8.59, 9.28, 9.38, 9.28, 8.79]\n",
        "wind_speed_avg = 7.1\n",
        "stations = [\"St. 2-1\", \"St. 2-2\", \"St. 2-3\", \"St. 2-4\", \"St. 2-5\",\"St. 2-6\", \"St. 2-7\", \"St. 2-8\", \"St. 2-9\", \"St. 2-10\",\"St. 2-11\", \"St. 2-12\", \"St. 2-13\", \"St. 2-14\", \"St. 2-15\"]\n",
        "\n",
        "\n",
        "ch4_fluxes = process_lists(bulk_c_list, temperature_C_list, salinity_list, wind_speed_avg, stations)\n",
        "\n",
        "i = 0\n",
        "for flux in ch4_fluxes:\n",
        "  print('For station {}, with [CH4] in water = {} nM, T = {} C, S = {} PSU, avg.wind = {} m/s, the calculated CH4 air-sea flux is = {} umol m-2 d-1'.format(stations[i], bulk_c_list[i],\n",
        "         temperature_C_list[i], salinity_list[i], wind_speed_avg, round(flux,2)))\n",
        "  i += 1\n",
        "\n",
        "\n"
      ],
      "metadata": {
        "colab": {
          "base_uri": "https://localhost:8080/"
        },
        "id": "VrJeQNOUEprk",
        "outputId": "cefa60ce-be78-456e-b47b-6ebb302cc38f"
      },
      "execution_count": 8,
      "outputs": [
        {
          "output_type": "stream",
          "name": "stdout",
          "text": [
            "For station St. 2-1, with [CH4] in water = 7.79 nM, T = 1.59 C, S = 33.94 PSU, avg.wind = 7.1 m/s, the calculated CH4 air-sea flux is = 6.43 umol m-2 d-1\n",
            "For station St. 2-2, with [CH4] in water = 9.0 nM, T = 1.58 C, S = 33.97 PSU, avg.wind = 7.1 m/s, the calculated CH4 air-sea flux is = 8.28 umol m-2 d-1\n",
            "For station St. 2-3, with [CH4] in water = 9.17 nM, T = 1.73 C, S = 33.97 PSU, avg.wind = 7.1 m/s, the calculated CH4 air-sea flux is = 8.6 umol m-2 d-1\n",
            "For station St. 2-4, with [CH4] in water = 8.64 nM, T = 1.81 C, S = 33.96 PSU, avg.wind = 7.1 m/s, the calculated CH4 air-sea flux is = 7.82 umol m-2 d-1\n",
            "For station St. 2-5, with [CH4] in water = 7.42 nM, T = 1.78 C, S = 33.97 PSU, avg.wind = 7.1 m/s, the calculated CH4 air-sea flux is = 5.93 umol m-2 d-1\n",
            "For station St. 2-6, with [CH4] in water = 6.93 nM, T = 1.82 C, S = 33.98 PSU, avg.wind = 7.1 m/s, the calculated CH4 air-sea flux is = 5.18 umol m-2 d-1\n",
            "For station St. 2-7, with [CH4] in water = 7.71 nM, T = 1.78 C, S = 33.97 PSU, avg.wind = 7.1 m/s, the calculated CH4 air-sea flux is = 6.37 umol m-2 d-1\n",
            "For station St. 2-8, with [CH4] in water = 9.25 nM, T = 2.64 C, S = 32.72 PSU, avg.wind = 7.1 m/s, the calculated CH4 air-sea flux is = 9.07 umol m-2 d-1\n",
            "For station St. 2-9, with [CH4] in water = 9.6 nM, T = 1.3 C, S = 32.81 PSU, avg.wind = 7.1 m/s, the calculated CH4 air-sea flux is = 9.02 umol m-2 d-1\n",
            "For station St. 2-10, with [CH4] in water = 7.39 nM, T = 1.77 C, S = 33.97 PSU, avg.wind = 7.1 m/s, the calculated CH4 air-sea flux is = 5.88 umol m-2 d-1\n",
            "For station St. 2-11, with [CH4] in water = 6.52 nM, T = 3.59 C, S = 32.36 PSU, avg.wind = 7.1 m/s, the calculated CH4 air-sea flux is = 5.03 umol m-2 d-1\n",
            "For station St. 2-12, with [CH4] in water = 15.51 nM, T = 1.99 C, S = 33.84 PSU, avg.wind = 7.1 m/s, the calculated CH4 air-sea flux is = 18.54 umol m-2 d-1\n",
            "For station St. 2-13, with [CH4] in water = 13.12 nM, T = 1.92 C, S = 33.89 PSU, avg.wind = 7.1 m/s, the calculated CH4 air-sea flux is = 14.79 umol m-2 d-1\n",
            "For station St. 2-14, with [CH4] in water = 9.92 nM, T = 1.7 C, S = 33.97 PSU, avg.wind = 7.1 m/s, the calculated CH4 air-sea flux is = 9.74 umol m-2 d-1\n",
            "For station St. 2-15, with [CH4] in water = 8.39 nM, T = 1.5 C, S = 34.01 PSU, avg.wind = 7.1 m/s, the calculated CH4 air-sea flux is = 7.31 umol m-2 d-1\n"
          ]
        }
      ]
    }
  ]
}